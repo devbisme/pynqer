{
 "cells": [
  {
   "cell_type": "markdown",
   "metadata": {
    "deletable": true,
    "editable": true
   },
   "source": [
    "# Ripping the Lid Off\n",
    "\n",
    "The obvious place to start exploring PYNQ is to play with its buttons and LEDs.\n",
    "There's already a [notebook](https://github.com/Xilinx/PYNQ/blob/master/Pynq-Z1/notebooks/examples/board_btns_leds.ipynb)\n",
    "for that so there's no need for me to replicate it.\n",
    "A more interesting question is what's going on underneath?\n",
    "So I'm going to rip the lid off the PYNQ software and start examining its innards.\n",
    "\n",
    "A good starting point is the `pynq` package:"
   ]
  },
  {
   "cell_type": "code",
   "execution_count": 1,
   "metadata": {
    "collapsed": true,
    "deletable": true,
    "editable": true
   },
   "outputs": [],
   "source": [
    "import pynq"
   ]
  },
  {
   "cell_type": "markdown",
   "metadata": {
    "deletable": true,
    "editable": true
   },
   "source": [
    "You can find the source here:"
   ]
  },
  {
   "cell_type": "code",
   "execution_count": 2,
   "metadata": {
    "collapsed": false,
    "deletable": true,
    "editable": true
   },
   "outputs": [
    {
     "data": {
      "text/plain": [
       "['/opt/python3.6/lib/python3.6/site-packages/pynq']"
      ]
     },
     "execution_count": 2,
     "metadata": {},
     "output_type": "execute_result"
    }
   ],
   "source": [
    "pynq.__path__"
   ]
  },
  {
   "cell_type": "markdown",
   "metadata": {
    "deletable": true,
    "editable": true
   },
   "source": [
    "The `Overlay` class in the `pynq` package lets you specify a particular overlay that will be loaded into the Programmable Logic (PL) section of the ZYNQ chip.\n",
    "Xilinx has already provided a pre-compiled overlay that interfaces to the PYNQ's buttons and LEDs (and other things):"
   ]
  },
  {
   "cell_type": "code",
   "execution_count": 3,
   "metadata": {
    "collapsed": true,
    "deletable": true,
    "editable": true
   },
   "outputs": [],
   "source": [
    "base = pynq.Overlay('base.bit')"
   ]
  },
  {
   "cell_type": "markdown",
   "metadata": {
    "deletable": true,
    "editable": true
   },
   "source": [
    "This reads in the bitstream for the overlay, but doesn't yet load it into the PL.\n",
    "Let's see what's in it:"
   ]
  },
  {
   "cell_type": "code",
   "execution_count": 4,
   "metadata": {
    "collapsed": false,
    "deletable": true,
    "editable": true
   },
   "outputs": [
    {
     "data": {
      "text/plain": [
       "['__class__',\n",
       " '__delattr__',\n",
       " '__dict__',\n",
       " '__dir__',\n",
       " '__doc__',\n",
       " '__eq__',\n",
       " '__format__',\n",
       " '__ge__',\n",
       " '__getattribute__',\n",
       " '__gt__',\n",
       " '__hash__',\n",
       " '__init__',\n",
       " '__init_subclass__',\n",
       " '__le__',\n",
       " '__lt__',\n",
       " '__module__',\n",
       " '__ne__',\n",
       " '__new__',\n",
       " '__reduce__',\n",
       " '__reduce_ex__',\n",
       " '__repr__',\n",
       " '__setattr__',\n",
       " '__sizeof__',\n",
       " '__str__',\n",
       " '__subclasshook__',\n",
       " '__weakref__',\n",
       " '_bitfile_name',\n",
       " '_gpio_dict',\n",
       " '_host',\n",
       " '_interrupt_controllers',\n",
       " '_interrupt_pins',\n",
       " '_ip_dict',\n",
       " '_remote',\n",
       " '_server',\n",
       " '_timestamp',\n",
       " 'bitfile_name',\n",
       " 'bitstream',\n",
       " 'client_request',\n",
       " 'download',\n",
       " 'gpio_dict',\n",
       " 'interrupt_controllers',\n",
       " 'interrupt_pins',\n",
       " 'ip_dict',\n",
       " 'is_loaded',\n",
       " 'load_ip_data',\n",
       " 'reset',\n",
       " 'server_update',\n",
       " 'setup']"
      ]
     },
     "execution_count": 4,
     "metadata": {},
     "output_type": "execute_result"
    }
   ],
   "source": [
    "dir(base)"
   ]
  },
  {
   "cell_type": "markdown",
   "metadata": {
    "deletable": true,
    "editable": true
   },
   "source": [
    "From this, the actual location of the overlay bitstream is easily found:"
   ]
  },
  {
   "cell_type": "code",
   "execution_count": 5,
   "metadata": {
    "collapsed": false,
    "deletable": true,
    "editable": true
   },
   "outputs": [
    {
     "data": {
      "text/plain": [
       "'/opt/python3.6/lib/python3.6/site-packages/pynq/bitstream/base.bit'"
      ]
     },
     "execution_count": 5,
     "metadata": {},
     "output_type": "execute_result"
    }
   ],
   "source": [
    "base.bitfile_name"
   ]
  },
  {
   "cell_type": "markdown",
   "metadata": {
    "deletable": true,
    "editable": true
   },
   "source": [
    "If you look in that directory, you'll also see a file called `base.tcl`.\n",
    "This contains *a lot* of information about the interface between the \n",
    "PL and the Processing System (PS) where the PYNQ Python code runs.\n",
    "One of the things the `Overlay` class does is search through this\n",
    "file, looking up all the interface information, and loading the\n",
    "necessary bits into dictionaries in the object it creates.\n",
    "\n",
    "You would *think* the `gpio_dict` contains the information about accessing\n",
    "the LEDs and buttons on the PYNQ board. Let's see:"
   ]
  },
  {
   "cell_type": "code",
   "execution_count": 6,
   "metadata": {
    "collapsed": false,
    "deletable": true,
    "editable": true
   },
   "outputs": [
    {
     "data": {
      "text/plain": [
       "{'audio_path_sel': [3, None],\n",
       " 'mb_1_intr_ack': [4, None],\n",
       " 'mb_1_reset': [0, None],\n",
       " 'mb_2_intr_ack': [5, None],\n",
       " 'mb_2_reset': [1, None],\n",
       " 'mb_3_intr_ack': [6, None],\n",
       " 'mb_3_reset': [2, None]}"
      ]
     },
     "execution_count": 6,
     "metadata": {},
     "output_type": "execute_result"
    }
   ],
   "source": [
    "base.gpio_dict"
   ]
  },
  {
   "cell_type": "markdown",
   "metadata": {
    "deletable": true,
    "editable": true
   },
   "source": [
    "Hmm, not quite what was expected.\n",
    "Looks like the reset and interrupt acknowledge pins are here, but nothing else.\n",
    "So the buttons and LEDs don't have direct connections from the PL to the PS.\n",
    "Let's try `ip_dict`:"
   ]
  },
  {
   "cell_type": "code",
   "execution_count": 7,
   "metadata": {
    "collapsed": false,
    "deletable": true,
    "editable": true
   },
   "outputs": [
    {
     "data": {
      "text/plain": [
       "{'SEG_axi_dma_0_Reg': [2151677952, 65536, None],\n",
       " 'SEG_axi_dma_0_Reg1': [2151743488, 65536, None],\n",
       " 'SEG_axi_dynclk_0_reg0': [1136721920, 65536, None],\n",
       " 'SEG_axi_gpio_video_Reg': [1092747264, 65536, None],\n",
       " 'SEG_axi_vdma_0_Reg': [1124073472, 65536, None],\n",
       " 'SEG_btns_gpio_Reg': [1092681728, 65536, None],\n",
       " 'SEG_d_axi_pdm_1_S_AXI_reg': [1136656384, 65536, None],\n",
       " 'SEG_hdmi_out_hpd_video_Reg': [1092812800, 65536, None],\n",
       " 'SEG_mb_bram_ctrl_1_Mem0': [1073741824, 65536, None],\n",
       " 'SEG_mb_bram_ctrl_2_Mem0': [1107296256, 65536, None],\n",
       " 'SEG_mb_bram_ctrl_3_Mem0': [1140850688, 65536, None],\n",
       " 'SEG_rgbled_gpio_Reg': [1092878336, 65536, None],\n",
       " 'SEG_swsleds_gpio_Reg': [1092616192, 65536, None],\n",
       " 'SEG_system_interrupts_Reg': [1098907648, 65536, None],\n",
       " 'SEG_trace_cntrl_0_Reg': [2210398208, 65536, None],\n",
       " 'SEG_trace_cntrl_0_Reg2': [2210463744, 65536, None],\n",
       " 'SEG_v_tc_0_Reg': [1136787456, 65536, None],\n",
       " 'SEG_v_tc_1_Reg': [1136852992, 65536, None]}"
      ]
     },
     "execution_count": 7,
     "metadata": {},
     "output_type": "execute_result"
    }
   ],
   "source": [
    "base.ip_dict"
   ]
  },
  {
   "cell_type": "markdown",
   "metadata": {
    "deletable": true,
    "editable": true
   },
   "source": [
    "This is more helpful. There are entries that look related to the buttons (`SEG_btns_gpio_Reg`), \n",
    "LEDs (`SEG_swsleds_gpio_Reg`), and RGB LEDs (`SEG_rgbled_gpio_Reg`).\n",
    "But what do the entries mean?\n",
    "\n",
    "Typing:\n",
    "\n",
    "    help(base)\n",
    "\n",
    "provides some information about that (along with quite a bit of other stuff):\n",
    "\n",
    "    Each entry of the IP dictionary is a mapping:\n",
    "     |  'name' -> [address, range, state]\n",
    "     |  \n",
    "     |  where\n",
    "     |  name (str) is the key of the entry.\n",
    "     |  address (int) is the base address of the IP.\n",
    "     |  range (int) is the address range of the IP.\n",
    "     |  state (str) is the state information about the IP.\n",
    "     \n",
    "This implies that reading the buttons or driving the LEDs is done using a read or write\n",
    "to a location within a bank of memory addresses.\n",
    "So the Python code for the buttons and LEDs must contain the instructions for what\n",
    "particular address offsets and bit locations are used.\n",
    "\n",
    "The [Python code for the buttons](https://github.com/Xilinx/PYNQ/blob/master/python/pynq/board/button.py) is stored in:"
   ]
  },
  {
   "cell_type": "code",
   "execution_count": 8,
   "metadata": {
    "collapsed": false,
    "deletable": true,
    "editable": true
   },
   "outputs": [
    {
     "data": {
      "text/plain": [
       "'/opt/python3.6/lib/python3.6/site-packages/pynq/board/button.py'"
      ]
     },
     "execution_count": 8,
     "metadata": {},
     "output_type": "execute_result"
    }
   ],
   "source": [
    "import pynq.board.button\n",
    "pynq.board.button.__file__"
   ]
  },
  {
   "cell_type": "markdown",
   "metadata": {
    "deletable": true,
    "editable": true
   },
   "source": [
    "There are two important imports in there:\n",
    "\n",
    "    from pynq import MMIO\n",
    "    from pynq import PL\n",
    "    \n",
    "The `MMIO` class instantiates objects for reading and writing to a segment of memory, and\n",
    "the `PL` is a singleton object that provides access to the dictionaries of whatever overlay is currently\n",
    "loaded into the PL of the ZYNQ.\n",
    "The `__init__` method of a `Button` object uses\n",
    "the `ip_dict` of the `Overlay` object to initialize an `MMIO` object with the starting\n",
    "address and size of the address range for the buttons:\n",
    "\n",
    "    def __init__(self, index):\n",
    "            if Button._mmio is None:\n",
    "                Button._mmio = MMIO(PL.ip_dict[\"SEG_btns_gpio_Reg\"][0], 512)\n",
    "            self.index = index  # This is the bit position of a button in the memory word.\n",
    "            ...\n",
    "\n",
    "Then the `Button` object's `read` method will return a\n",
    "particular button's current state by reading the memory word and masking-off the associated bit:\n",
    "\n",
    "    def read(self):\n",
    "        curr_val = Button._mmio.read()  # Read the 1st word of the memory range.\n",
    "        return (curr_val & (1 << self.index)) >> self.index  # Mask off the bit for this button.\n",
    "\n",
    "The [Python code for the LED](https://github.com/Xilinx/PYNQ/blob/master/python/pynq/board/led.py)\n",
    "is very similar except that it writes a bit to the memory address to turn an LED on or off.\n",
    "(Except that the address for writing the LED values is offset by `0x8` for some unknown reason\n",
    "that may become apparent later.)\n",
    "\n",
    "So, if I understand this correctly, I should be able to explicitly use `MMIO` and `PL` to write my own\n",
    "code for reading the state of a buttons and turning the LEDs on or off.\n",
    "The code in the following cell can be run and then (for a 10-second interval)\n",
    "the LED above each button on the PYNQ-Z1 will come on as long as that button is pushed."
   ]
  },
  {
   "cell_type": "code",
   "execution_count": 9,
   "metadata": {
    "collapsed": false,
    "deletable": true,
    "editable": true
   },
   "outputs": [],
   "source": [
    "from pynq import Overlay, PL, MMIO\n",
    "\n",
    "base = Overlay('base.bit')\n",
    "base.download()             # Load the PL of the ZYNQ with the bitstream for buttons & LEDs.\n",
    "\n",
    "# Create MMIO objects for reading the buttons and turning the LEDs on and off.\n",
    "button_addr  = base.ip_dict['SEG_btns_gpio_Reg'][0]\n",
    "button_range = base.ip_dict['SEG_btns_gpio_Reg'][1]\n",
    "button_mmio  = MMIO(button_addr, button_range)\n",
    "led_addr     = base.ip_dict['SEG_swsleds_gpio_Reg'][0]\n",
    "led_range    = base.ip_dict['SEG_swsleds_gpio_Reg'][1]\n",
    "led_mmio     = MMIO(led_addr, led_range)\n",
    "\n",
    "# For a ten-second interval, read the values of all four buttons and\n",
    "# display it on all four of the LEDs.\n",
    "from time import time\n",
    "end = time() + 10.0\n",
    "while time() < end:\n",
    "    buttons = button_mmio.read(0)  # Read memory word containing all four button values.\n",
    "    led_mmio.write(0x8, buttons)   # Write button values to memory word driving all four LEDs.\n"
   ]
  },
  {
   "cell_type": "markdown",
   "metadata": {
    "deletable": true,
    "editable": true
   },
   "source": [
    "The same thing can be done using the higher-level PYNQ software:"
   ]
  },
  {
   "cell_type": "code",
   "execution_count": 10,
   "metadata": {
    "collapsed": false,
    "deletable": true,
    "editable": true
   },
   "outputs": [],
   "source": [
    "from pynq import Overlay\n",
    "from pynq.board.button import Button\n",
    "from pynq.board.led import LED\n",
    "\n",
    "# Create lists of the buttons and LEDs.\n",
    "buttons = [Button(i) for i in range(4)]\n",
    "leds = [LED(i) for i in range(4)]\n",
    "\n",
    "# For a ten-second interval, execute a loop to read the values of each button and\n",
    "# display it on the associated LED.\n",
    "from time import time\n",
    "end = time() + 10.0\n",
    "while time() < end:\n",
    "    for i in range(4):\n",
    "        leds[i].write( buttons[i].read() )\n",
    "        "
   ]
  },
  {
   "cell_type": "markdown",
   "metadata": {
    "deletable": true,
    "editable": true
   },
   "source": [
    "Obviously, using the higher-level constructs makes the intent of the code clearer, so\n",
    "why bother with the low-level, explicit approach?\n",
    "*Because it shows how the magic is done!*\n",
    "And I'll need to recreate that magic when I build my own PL overlays and interface them to the PS.\n",
    "An understanding of the underlying code is necessary for that.\n",
    "\n",
    "You'll notice in `button.py` that it includes some code for handling interrupts.\n",
    "I'll start tinkering with those next."
   ]
  },
  {
   "cell_type": "markdown",
   "metadata": {},
   "source": [
    "## Pertinent Files\n",
    "\n",
    "Here is a list of the files I examined while making this blog post:\n",
    "\n",
    "* [`base.bit`](https://github.com/Xilinx/PYNQ/blob/master/Pynq-Z1/bitstream/base.bit): \n",
    "  A bitstream that program the ZYNQ's PL with a set of interfaces to the hardware on the PYNQ-Z1 board.\n",
    "* [`base.tcl`](https://github.com/Xilinx/PYNQ/blob/master/Pynq-Z1/bitstream/base.tcl): \n",
    "  Contains a set of definitions for register/memory addresses for the interfaces in the `base` overlay.\n",
    "* [`pl.py`](https://github.com/Xilinx/PYNQ/blob/master/python/pynq/pl.py): \n",
    "  Defines the classes for PL overlays (`PL_Meta`, `PL`, `Bitstream` and `Overlay`). \n",
    "* [`mmio.py`](https://github.com/Xilinx/PYNQ/blob/master/python/pynq/mmio.py): \n",
    "  Defines the `MMIO` class for reading/writing a segment of memory.\n",
    "* [`button.py`](https://github.com/Xilinx/PYNQ/blob/master/python/pynq/board/button.py): \n",
    "  Defines the `Button` class for reading the state of the pushbuttons on the PYNQ-Z1.\n",
    "* [`switch.py`](https://github.com/Xilinx/PYNQ/blob/master/python/pynq/board/switch.py): \n",
    "  Defines the `Switch` class for reading the state of the slide switches on the PYNQ-Z1.\n",
    "  (I didn't use these in this post.)\n",
    "* [`led.py`](https://github.com/Xilinx/PYNQ/blob/master/python/pynq/board/led.py): \n",
    "  Defines the `LED` class for changing the state of ON-OFF LEDs on the PYNQ-Z1.\n",
    "* [`rgbled.py`](https://github.com/Xilinx/PYNQ/blob/master/python/pynq/board/rgbled.py): \n",
    "  Defines the `RGBLED` class for changing the state of RGB LEDs on the PYNQ-Z1.\n",
    "  (I didn't use these in this post.)\n",
    "* [This Jupyter notebook](https://github.com/xesscorp/pynqer/tree/master/Notebooks/ripping_the_lid_off.ipynb):\n",
    "  Contains the executable notebook from which this post was generated.\n"
   ]
  }
 ],
 "metadata": {
  "kernelspec": {
   "display_name": "Python 3",
   "language": "python",
   "name": "python3"
  },
  "language_info": {
   "codemirror_mode": {
    "name": "ipython",
    "version": 3
   },
   "file_extension": ".py",
   "mimetype": "text/x-python",
   "name": "python",
   "nbconvert_exporter": "python",
   "pygments_lexer": "ipython3",
   "version": "3.6.0"
  }
 },
 "nbformat": 4,
 "nbformat_minor": 2
}
