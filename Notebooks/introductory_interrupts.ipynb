{
 "cells": [
  {
   "cell_type": "markdown",
   "metadata": {
    "deletable": true,
    "editable": true
   },
   "source": [
    "# Introductory Interrupts\n",
    "\n",
    "My [previous blog post](https://xesscorp.github.io/pynqer/docs/_site/blog/ripping-the-lid-off)\n",
    "showed how I used *polling* to get the state of the PYNQ's pushbuttons and display them on the LEDs.\n",
    "That's a great way to burn through CPU cycles.\n",
    "\n",
    "Anyone who's programmed embedded microcontrollers knows *interrupts* provide\n",
    "a more efficient solution that only checks the buttons when they change state.\n",
    "Xilinx provides\n",
    "[this PYNQ demo](https://github.com/Xilinx/PYNQ/blob/master/Pynq-Z1/notebooks/examples/asyncio_buttons.ipynb)\n",
    "that couples the ZYNQ interrupt hardware with Python's\n",
    "[asyncio](https://pymotw.com/3/asyncio/index.html) features.\n",
    "\n",
    "Unfortunately, I'm not very familiar with `asyncio`, and\n",
    "[this post](http://lucumr.pocoo.org/2016/10/30/i-dont-understand-asyncio/)\n",
    "didn't fill me with confidence.\n",
    "But, eventually, I picked up enough to understand the basic concepts of an\n",
    "explicit *event loop* that runs a set of *coroutines* encapsulated in *tasks*.\n",
    "\n",
    "Then I got confused again because I couldn't see where the Xilinx example\n",
    "started the event loop.\n",
    "It turns out that's hidden in the `wait_for_value()` method of the\n",
    "[`Switch` object](https://github.com/Xilinx/PYNQ/blob/master/python/pynq/board/switch.py):\n",
    "\n",
    "```py\n",
    "def wait_for_value(self, value):\n",
    "\n",
    "    # Abort if the interrupt hardware isn't present in this overlay.\n",
    "    if self.interrupt is None:\n",
    "        raise RuntimeError('Interrupts not available in this Overlay')\n",
    "\n",
    "    # Get the default event loop.\n",
    "    loop = asyncio.get_event_loop()\n",
    "    \n",
    "    # Encapsulate the wait_for_value_async() coroutine in a task and run it\n",
    "    # in the event loop until this button has the desired value.\n",
    "    loop.run_until_complete(asyncio.ensure_future(self.wait_for_value_async(value)))\n",
    "```\n",
    "\n",
    "Now if I just call `switch[0].wait_for_value(1)`, the event loop in the following cell will run\n",
    "until I flip the switch:"
   ]
  },
  {
   "cell_type": "code",
   "execution_count": 1,
   "metadata": {
    "collapsed": false,
    "deletable": true,
    "editable": true
   },
   "outputs": [
    {
     "name": "stdout",
     "output_type": "stream",
     "text": [
      "SW0 is 1!\n"
     ]
    }
   ],
   "source": [
    "from pynq import Overlay\n",
    "from pynq.board import Switch\n",
    "\n",
    "# Make sure the base overlay is installed in the ZYNQ PL.\n",
    "Overlay('base.bit').download()\n",
    "\n",
    "sw0 = Switch(0)        # Create Switch object for SW0.\n",
    "sw0.wait_for_value(1)  # Push SW0 up to terminate this cell.\n",
    "print('SW0 is 1!')"
   ]
  },
  {
   "cell_type": "markdown",
   "metadata": {
    "deletable": true,
    "editable": true
   },
   "source": [
    "How is this any different than just polling?\n",
    "The answer lies in the `wait_for_value_async()` coroutine.\n",
    "It contains a loop, but it's a loop that only runs whenever the interrupt circuitry detects a change\n",
    "in the switch state:\n",
    "\n",
    "```py\n",
    "@asyncio.coroutine  # Make the following function into a coroutine that runs in an event loop.\n",
    "def wait_for_value_async(self, value):\n",
    "\n",
    "    # Abort if the overlay has no interrupt circuitry (see the next method).\n",
    "    if self.interrupt is None:\n",
    "        raise RuntimeError('Interrupts not available in this Overlay')\n",
    "        \n",
    "    # Only exit this loop when this switch has the desired value.\n",
    "    while self.read() != value:\n",
    "    \n",
    "        # Pause this coroutine until one of the switches changes state and causes an interrupt.\n",
    "        yield from self.interrupt.wait()\n",
    "        \n",
    "        # If one of the switches caused the interrupt, then reset the interrupt flag.\n",
    "        if Switch._mmio.read(0x120) & 0x1:\n",
    "            Switch._mmio.write(0x120, 0x00000001)\n",
    "```\n",
    "\n",
    "The interrupt hardware is setup in the `__init__()` method of the `Switch` object:\n",
    "\n",
    "```py\n",
    "def __init__(self, index):\n",
    "\n",
    "    # Create the MMIO object that has register addresses for reading the switch state.\n",
    "    if Switch._mmio is None:\n",
    "        Switch._mmio = MMIO(PL.ip_dict[\"SEG_swsleds_gpio_Reg\"][0], 512)\n",
    "        \n",
    "    self.index = index  # The index for this switch (either 0 or 1 for the PYNQ).\n",
    "    \n",
    "    # Setup the interrupt hardware.\n",
    "    self.interrupt = None  # No interrupts by default.\n",
    "    try:\n",
    "        # Create the interrupt object using info from the overlay.\n",
    "        self.interrupt = Interrupt('swsleds_gpio/ip2intc_irpt')\n",
    "        \n",
    "        # Enable the interrupts using register addresses in the switch MMIO.\n",
    "        Switch._mmio.write(0x11C, 0x80000000)\n",
    "        Switch._mmio.write(0x128, 0x00000001)\n",
    "\n",
    "    except ValueError as err:\n",
    "        print(err)\n",
    "```\n",
    "\n",
    "There are a few mysteries in the code shown above, such as where the addresses\n",
    "for querying and clearing the switch interrupts come from.\n",
    "(I suspect that will be answered by diving into the HDL code for the `base` overlay.)\n",
    "Also, I haven't looked into the operations of the `Interrupt` class.\n",
    "\n",
    "But I've seen enough to replicate handling the switch interrupts.\n",
    "The following code creates tasks that scan the switches whenever\n",
    "an interrupt happens.\n",
    "A separate task runs for a set time interval after which\n",
    "the scanning stops and the CPU utilization over that interval is displayed.\n",
    "(Note that in this code I've used the new `async` and `await` keywords\n",
    "in place of `asyncio.coroutine` and `yield from`, respectively.)\n",
    "So just run the following cell and see what happens."
   ]
  },
  {
   "cell_type": "code",
   "execution_count": 2,
   "metadata": {
    "collapsed": false,
    "deletable": true,
    "editable": true
   },
   "outputs": [
    {
     "name": "stdout",
     "output_type": "stream",
     "text": [
      "Switch[0] = 1\n",
      "Switch[1] = 0\n",
      "Switch[0] = 1\n",
      "Switch[1] = 0\n",
      "Switch[0] = 0\n",
      "Switch[1] = 0\n",
      "Switch[0] = 0\n",
      "Switch[1] = 0\n",
      "Switch[0] = 0\n",
      "Switch[1] = 1\n",
      "Switch[0] = 0\n",
      "Switch[1] = 1\n",
      "Switch[0] = 0\n",
      "Switch[1] = 0\n",
      "Switch[0] = 0\n",
      "Switch[1] = 1\n",
      "Switch[0] = 0\n",
      "Switch[1] = 1\n",
      "Switch[0] = 0\n",
      "Switch[1] = 0\n",
      "Switch[0] = 0\n",
      "Switch[1] = 0\n",
      "CPU Utilization = [0.8, 0.3]\n"
     ]
    }
   ],
   "source": [
    "import asyncio\n",
    "from psutil import cpu_percent\n",
    "from pynq import Overlay\n",
    "from pynq.board import Switch\n",
    "\n",
    "# Make sure the base overlay is installed in the ZYNQ PL.\n",
    "Overlay('base.bit').download()\n",
    "\n",
    "# Create objects for both slide switches.\n",
    "switches = [Switch(i) for i in range(2)]\n",
    "\n",
    "# Coroutine that waits for a switch to change state.\n",
    "async def show_switch(sw):\n",
    "    while True:\n",
    "\n",
    "        # Wait for the switch to change and then print its state.\n",
    "        await sw.interrupt.wait()  # Wait for the interrupt to happen.\n",
    "        print('Switch[{num}] = {val}'.format(num=sw.index, val=sw.read()))\n",
    "\n",
    "        # Clear the interrupt.\n",
    "        if Switch._mmio.read(0x120) & 0x1:\n",
    "            Switch._mmio.write(0x120, 0x00000001)\n",
    "\n",
    "# Create a task for each switch using the coroutine and place them on the event loop.\n",
    "tasks = [asyncio.ensure_future(show_switch(sw)) for sw in switches]\n",
    "    \n",
    "# Create a simple coroutine that just waits for a time interval to expire.\n",
    "async def just_wait(interval):\n",
    "    await asyncio.sleep(interval)\n",
    "\n",
    "# Run the event loop until the time interval expires,\n",
    "# printing the switch values as they change.\n",
    "time_interval = 10  # time in seconds\n",
    "loop = asyncio.get_event_loop()\n",
    "wait_task = asyncio.ensure_future(just_wait(time_interval))\n",
    "\n",
    "# Surround the event loop with functions to record CPU utilization.\n",
    "cpu_percent(percpu=True)  # Initialize the CPU monitoring.\n",
    "loop.run_until_complete(wait_task)\n",
    "cpu_used = cpu_percent(percpu=True)\n",
    "\n",
    "# Print the CPU utilization % for the interval.\n",
    "print('CPU Utilization = {cpu_used}'.format(**locals()))\n",
    "\n",
    "# Remove all the tasks from the event loop.\n",
    "for t in tasks:\n",
    "    t.cancel()"
   ]
  },
  {
   "cell_type": "markdown",
   "metadata": {
    "deletable": true,
    "editable": true
   },
   "source": [
    "While the code was running, I flipped each switch once.\n",
    "For some reason, each transition of a switch caused the interrupt to be serviced twice.\n",
    "(I still haven't figured that out.)\n",
    "\n",
    "At the end of the prescribed time interval, the utilization of each CPU is shown to\n",
    "be less than 1%.\n",
    "To compare this with the use of polling, I wrote the following code that scans each switch continuously:"
   ]
  },
  {
   "cell_type": "code",
   "execution_count": 4,
   "metadata": {
    "collapsed": false,
    "deletable": true,
    "editable": true
   },
   "outputs": [
    {
     "name": "stdout",
     "output_type": "stream",
     "text": [
      "CPU Utilization = [0.3, 100.0]\n"
     ]
    }
   ],
   "source": [
    "def scan_switch(sw):\n",
    "    try:\n",
    "        sw_val = sw.read()  # Get the switch state.\n",
    "        \n",
    "        # Print the switch state if it has changed.\n",
    "        if sw.prev != sw_val:\n",
    "            print('Switch[{num}] = {val}'.format(num=sw.index, val=sw_val))\n",
    "            \n",
    "    except AttributeError:\n",
    "        # An exception occurs the 1st time thru because the switch state\n",
    "        # hasn't yet been stored in the object as an attribute.\n",
    "        pass\n",
    "    \n",
    "    # Save the current state of the switch inside the switch object.\n",
    "    sw.prev = sw_val\n",
    "\n",
    "# Compute the end time for the polling.\n",
    "from time import time\n",
    "end = time() + 10.0\n",
    "\n",
    "cpu_percent(percpu=True)  # Initialize the CPU monitoring.\n",
    "\n",
    "# Now poll the switches for the given time interval.\n",
    "while time() < end:\n",
    "    for sw in switches:\n",
    "        scan_switch(sw)\n",
    "        \n",
    "# Print the CPU utilization during the polling.\n",
    "cpu_used = cpu_percent(percpu=True)\n",
    "print('CPU Utilization = {cpu_used}'.format(**locals()))"
   ]
  },
  {
   "cell_type": "markdown",
   "metadata": {
    "deletable": true,
    "editable": true
   },
   "source": [
    "Once again, I flipped each switch while the code was running.\n",
    "Only now the utilization is near 100% for one of the CPUs, showing the \n",
    "interrupt-based code is much more efficient than polling."
   ]
  },
  {
   "cell_type": "markdown",
   "metadata": {
    "deletable": true,
    "editable": true
   },
   "source": [
    "## Pertinent Files\n",
    "\n",
    "Here is a list of the files I examined while making this blog post:\n",
    "\n",
    "* [`switch.py`](https://github.com/Xilinx/PYNQ/blob/master/python/pynq/board/switch.py): \n",
    "  Defines the `Switch` class for reading the state of the slide switches and handling their interrupts.\n",
    "* [This Jupyter notebook](https://github.com/xesscorp/pynqer/tree/master/Notebooks/introductory_interrupts.ipynb):\n",
    "  Contains the executable notebook from which this post was generated.\n"
   ]
  }
 ],
 "metadata": {
  "kernelspec": {
   "display_name": "Python 3",
   "language": "python",
   "name": "python3"
  },
  "language_info": {
   "codemirror_mode": {
    "name": "ipython",
    "version": 3
   },
   "file_extension": ".py",
   "mimetype": "text/x-python",
   "name": "python",
   "nbconvert_exporter": "python",
   "pygments_lexer": "ipython3",
   "version": "3.6.0"
  }
 },
 "nbformat": 4,
 "nbformat_minor": 2
}
